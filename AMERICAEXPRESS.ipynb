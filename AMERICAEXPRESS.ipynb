{
 "cells": [
  {
   "cell_type": "markdown",
   "metadata": {},
   "source": [
    "1.importing the neccessary libraries for data importing,data manupulation and data visualization."
   ]
  },
  {
   "cell_type": "code",
   "execution_count": 1,
   "metadata": {
    "collapsed": true
   },
   "outputs": [],
   "source": [
    "import pandas as pd #for data importing and manupulation\n",
    "import numpy as np  #for data manupulation and cleaning\n",
    "import seaborn as sns # data visualization\n",
    "import matplotlib.pyplot as plt # data visualization\n",
    "%matplotlib inline "
   ]
  },
  {
   "cell_type": "markdown",
   "metadata": {},
   "source": [
    "2.import the dataset for training and test set"
   ]
  },
  {
   "cell_type": "code",
   "execution_count": 2,
   "metadata": {
    "collapsed": true
   },
   "outputs": [],
   "source": [
    "df = pd.read_csv('ame1.csv')\n",
    "df1 = pd.read_csv('ame2.csv')"
   ]
  },
  {
   "cell_type": "code",
   "execution_count": 3,
   "metadata": {},
   "outputs": [
    {
     "data": {
      "text/html": [
       "<div>\n",
       "<table border=\"1\" class=\"dataframe\">\n",
       "  <thead>\n",
       "    <tr style=\"text-align: right;\">\n",
       "      <th></th>\n",
       "      <th>session_id</th>\n",
       "      <th>DateTime</th>\n",
       "      <th>user_id</th>\n",
       "      <th>product</th>\n",
       "      <th>campaign_id</th>\n",
       "      <th>webpage_id</th>\n",
       "      <th>product_category_1</th>\n",
       "      <th>product_category_2</th>\n",
       "      <th>user_group_id</th>\n",
       "      <th>gender</th>\n",
       "      <th>age_level</th>\n",
       "      <th>user_depth</th>\n",
       "      <th>city_development_index</th>\n",
       "      <th>var_1</th>\n",
       "      <th>is_click</th>\n",
       "    </tr>\n",
       "  </thead>\n",
       "  <tbody>\n",
       "    <tr>\n",
       "      <th>0</th>\n",
       "      <td>140690</td>\n",
       "      <td>2017-07-02 00:00</td>\n",
       "      <td>858557</td>\n",
       "      <td>C</td>\n",
       "      <td>359520</td>\n",
       "      <td>13787</td>\n",
       "      <td>4</td>\n",
       "      <td>NaN</td>\n",
       "      <td>10.0</td>\n",
       "      <td>Female</td>\n",
       "      <td>4.0</td>\n",
       "      <td>3.0</td>\n",
       "      <td>3.0</td>\n",
       "      <td>0</td>\n",
       "      <td>0</td>\n",
       "    </tr>\n",
       "    <tr>\n",
       "      <th>1</th>\n",
       "      <td>333291</td>\n",
       "      <td>2017-07-02 00:00</td>\n",
       "      <td>243253</td>\n",
       "      <td>C</td>\n",
       "      <td>105960</td>\n",
       "      <td>11085</td>\n",
       "      <td>5</td>\n",
       "      <td>NaN</td>\n",
       "      <td>8.0</td>\n",
       "      <td>Female</td>\n",
       "      <td>2.0</td>\n",
       "      <td>2.0</td>\n",
       "      <td>NaN</td>\n",
       "      <td>0</td>\n",
       "      <td>0</td>\n",
       "    </tr>\n",
       "    <tr>\n",
       "      <th>2</th>\n",
       "      <td>129781</td>\n",
       "      <td>2017-07-02 00:00</td>\n",
       "      <td>243253</td>\n",
       "      <td>C</td>\n",
       "      <td>359520</td>\n",
       "      <td>13787</td>\n",
       "      <td>4</td>\n",
       "      <td>NaN</td>\n",
       "      <td>8.0</td>\n",
       "      <td>Female</td>\n",
       "      <td>2.0</td>\n",
       "      <td>2.0</td>\n",
       "      <td>NaN</td>\n",
       "      <td>0</td>\n",
       "      <td>0</td>\n",
       "    </tr>\n",
       "    <tr>\n",
       "      <th>3</th>\n",
       "      <td>464848</td>\n",
       "      <td>2017-07-02 00:00</td>\n",
       "      <td>1097446</td>\n",
       "      <td>I</td>\n",
       "      <td>359520</td>\n",
       "      <td>13787</td>\n",
       "      <td>3</td>\n",
       "      <td>NaN</td>\n",
       "      <td>3.0</td>\n",
       "      <td>Male</td>\n",
       "      <td>3.0</td>\n",
       "      <td>3.0</td>\n",
       "      <td>2.0</td>\n",
       "      <td>1</td>\n",
       "      <td>0</td>\n",
       "    </tr>\n",
       "    <tr>\n",
       "      <th>4</th>\n",
       "      <td>90569</td>\n",
       "      <td>2017-07-02 00:01</td>\n",
       "      <td>663656</td>\n",
       "      <td>C</td>\n",
       "      <td>405490</td>\n",
       "      <td>60305</td>\n",
       "      <td>3</td>\n",
       "      <td>NaN</td>\n",
       "      <td>2.0</td>\n",
       "      <td>Male</td>\n",
       "      <td>2.0</td>\n",
       "      <td>3.0</td>\n",
       "      <td>2.0</td>\n",
       "      <td>1</td>\n",
       "      <td>0</td>\n",
       "    </tr>\n",
       "  </tbody>\n",
       "</table>\n",
       "</div>"
      ],
      "text/plain": [
       "   session_id          DateTime  user_id product  campaign_id  webpage_id  \\\n",
       "0      140690  2017-07-02 00:00   858557       C       359520       13787   \n",
       "1      333291  2017-07-02 00:00   243253       C       105960       11085   \n",
       "2      129781  2017-07-02 00:00   243253       C       359520       13787   \n",
       "3      464848  2017-07-02 00:00  1097446       I       359520       13787   \n",
       "4       90569  2017-07-02 00:01   663656       C       405490       60305   \n",
       "\n",
       "   product_category_1  product_category_2  user_group_id  gender  age_level  \\\n",
       "0                   4                 NaN           10.0  Female        4.0   \n",
       "1                   5                 NaN            8.0  Female        2.0   \n",
       "2                   4                 NaN            8.0  Female        2.0   \n",
       "3                   3                 NaN            3.0    Male        3.0   \n",
       "4                   3                 NaN            2.0    Male        2.0   \n",
       "\n",
       "   user_depth  city_development_index  var_1  is_click  \n",
       "0         3.0                     3.0      0         0  \n",
       "1         2.0                     NaN      0         0  \n",
       "2         2.0                     NaN      0         0  \n",
       "3         3.0                     2.0      1         0  \n",
       "4         3.0                     2.0      1         0  "
      ]
     },
     "execution_count": 3,
     "metadata": {},
     "output_type": "execute_result"
    }
   ],
   "source": [
    "df.head()"
   ]
  },
  {
   "cell_type": "code",
   "execution_count": 4,
   "metadata": {},
   "outputs": [
    {
     "data": {
      "text/html": [
       "<div>\n",
       "<table border=\"1\" class=\"dataframe\">\n",
       "  <thead>\n",
       "    <tr style=\"text-align: right;\">\n",
       "      <th></th>\n",
       "      <th>session_id</th>\n",
       "      <th>DateTime</th>\n",
       "      <th>user_id</th>\n",
       "      <th>product</th>\n",
       "      <th>campaign_id</th>\n",
       "      <th>webpage_id</th>\n",
       "      <th>product_category_1</th>\n",
       "      <th>product_category_2</th>\n",
       "      <th>user_group_id</th>\n",
       "      <th>gender</th>\n",
       "      <th>age_level</th>\n",
       "      <th>user_depth</th>\n",
       "      <th>city_development_index</th>\n",
       "      <th>var_1</th>\n",
       "    </tr>\n",
       "  </thead>\n",
       "  <tbody>\n",
       "    <tr>\n",
       "      <th>0</th>\n",
       "      <td>411705</td>\n",
       "      <td>2017-07-08 00:00</td>\n",
       "      <td>732573</td>\n",
       "      <td>J</td>\n",
       "      <td>404347</td>\n",
       "      <td>53587</td>\n",
       "      <td>1</td>\n",
       "      <td>NaN</td>\n",
       "      <td>5.0</td>\n",
       "      <td>Male</td>\n",
       "      <td>5.0</td>\n",
       "      <td>3.0</td>\n",
       "      <td>NaN</td>\n",
       "      <td>0</td>\n",
       "    </tr>\n",
       "    <tr>\n",
       "      <th>1</th>\n",
       "      <td>208263</td>\n",
       "      <td>2017-07-08 00:00</td>\n",
       "      <td>172910</td>\n",
       "      <td>I</td>\n",
       "      <td>118601</td>\n",
       "      <td>28529</td>\n",
       "      <td>3</td>\n",
       "      <td>82527.0</td>\n",
       "      <td>NaN</td>\n",
       "      <td>NaN</td>\n",
       "      <td>NaN</td>\n",
       "      <td>NaN</td>\n",
       "      <td>NaN</td>\n",
       "      <td>1</td>\n",
       "    </tr>\n",
       "    <tr>\n",
       "      <th>2</th>\n",
       "      <td>239450</td>\n",
       "      <td>2017-07-08 00:00</td>\n",
       "      <td>172910</td>\n",
       "      <td>I</td>\n",
       "      <td>118601</td>\n",
       "      <td>28529</td>\n",
       "      <td>4</td>\n",
       "      <td>82527.0</td>\n",
       "      <td>NaN</td>\n",
       "      <td>NaN</td>\n",
       "      <td>NaN</td>\n",
       "      <td>NaN</td>\n",
       "      <td>NaN</td>\n",
       "      <td>1</td>\n",
       "    </tr>\n",
       "    <tr>\n",
       "      <th>3</th>\n",
       "      <td>547761</td>\n",
       "      <td>2017-07-08 00:00</td>\n",
       "      <td>557318</td>\n",
       "      <td>G</td>\n",
       "      <td>118601</td>\n",
       "      <td>28529</td>\n",
       "      <td>5</td>\n",
       "      <td>82527.0</td>\n",
       "      <td>1.0</td>\n",
       "      <td>Male</td>\n",
       "      <td>1.0</td>\n",
       "      <td>3.0</td>\n",
       "      <td>1.0</td>\n",
       "      <td>0</td>\n",
       "    </tr>\n",
       "    <tr>\n",
       "      <th>4</th>\n",
       "      <td>574275</td>\n",
       "      <td>2017-07-08 00:00</td>\n",
       "      <td>923896</td>\n",
       "      <td>H</td>\n",
       "      <td>118601</td>\n",
       "      <td>28529</td>\n",
       "      <td>5</td>\n",
       "      <td>82527.0</td>\n",
       "      <td>9.0</td>\n",
       "      <td>Female</td>\n",
       "      <td>3.0</td>\n",
       "      <td>1.0</td>\n",
       "      <td>NaN</td>\n",
       "      <td>1</td>\n",
       "    </tr>\n",
       "  </tbody>\n",
       "</table>\n",
       "</div>"
      ],
      "text/plain": [
       "   session_id          DateTime  user_id product  campaign_id  webpage_id  \\\n",
       "0      411705  2017-07-08 00:00   732573       J       404347       53587   \n",
       "1      208263  2017-07-08 00:00   172910       I       118601       28529   \n",
       "2      239450  2017-07-08 00:00   172910       I       118601       28529   \n",
       "3      547761  2017-07-08 00:00   557318       G       118601       28529   \n",
       "4      574275  2017-07-08 00:00   923896       H       118601       28529   \n",
       "\n",
       "   product_category_1  product_category_2  user_group_id  gender  age_level  \\\n",
       "0                   1                 NaN            5.0    Male        5.0   \n",
       "1                   3             82527.0            NaN     NaN        NaN   \n",
       "2                   4             82527.0            NaN     NaN        NaN   \n",
       "3                   5             82527.0            1.0    Male        1.0   \n",
       "4                   5             82527.0            9.0  Female        3.0   \n",
       "\n",
       "   user_depth  city_development_index  var_1  \n",
       "0         3.0                     NaN      0  \n",
       "1         NaN                     NaN      1  \n",
       "2         NaN                     NaN      1  \n",
       "3         3.0                     1.0      0  \n",
       "4         1.0                     NaN      1  "
      ]
     },
     "execution_count": 4,
     "metadata": {},
     "output_type": "execute_result"
    }
   ],
   "source": [
    "df1.head()"
   ]
  },
  {
   "cell_type": "markdown",
   "metadata": {},
   "source": [
    "3. checking the productID for both train and test"
   ]
  },
  {
   "cell_type": "code",
   "execution_count": 5,
   "metadata": {},
   "outputs": [
    {
     "data": {
      "text/plain": [
       "<matplotlib.text.Text at 0x284903e7390>"
      ]
     },
     "execution_count": 5,
     "metadata": {},
     "output_type": "execute_result"
    },
    {
     "data": {
      "image/png": "[encoded data removed]",
      "text/plain": [
       "<matplotlib.figure.Figure at 0x2848fd569e8>"
      ]
     },
     "metadata": {},
     "output_type": "display_data"
    }
   ],
   "source": [
    "df['product'].value_counts().plot.bar()\n",
    "plt.title('count of train productID')"
   ]
  },
  {
   "cell_type": "code",
   "execution_count": 6,
   "metadata": {},
   "outputs": [
    {
     "data": {
      "text/plain": [
       "<matplotlib.text.Text at 0x284904fd780>"
      ]
     },
     "execution_count": 6,
     "metadata": {},
     "output_type": "execute_result"
    },
    {
     "data": {
      "image/png": "[encoded data removed]",
      "text/plain": [
       "<matplotlib.figure.Figure at 0x284904074a8>"
      ]
     },
     "metadata": {},
     "output_type": "display_data"
    }
   ],
   "source": [
    "df1['product'].value_counts().plot.bar()\n",
    "plt.title('count of test productID')"
   ]
  },
  {
   "cell_type": "code",
   "execution_count": 7,
   "metadata": {},
   "outputs": [
    {
     "name": "stdout",
     "output_type": "stream",
     "text": [
      "<class 'pandas.core.frame.DataFrame'>\n",
      "RangeIndex: 463291 entries, 0 to 463290\n",
      "Data columns (total 15 columns):\n",
      "session_id                463291 non-null int64\n",
      "DateTime                  463291 non-null object\n",
      "user_id                   463291 non-null int64\n",
      "product                   463291 non-null object\n",
      "campaign_id               463291 non-null int64\n",
      "webpage_id                463291 non-null int64\n",
      "product_category_1        463291 non-null int64\n",
      "product_category_2        97437 non-null float64\n",
      "user_group_id             445048 non-null float64\n",
      "gender                    445048 non-null object\n",
      "age_level                 445048 non-null float64\n",
      "user_depth                445048 non-null float64\n",
      "city_development_index    338162 non-null float64\n",
      "var_1                     463291 non-null int64\n",
      "is_click                  463291 non-null int64\n",
      "dtypes: float64(5), int64(7), object(3)\n",
      "memory usage: 53.0+ MB\n"
     ]
    }
   ],
   "source": [
    "df.info() #checking the train info"
   ]
  },
  {
   "cell_type": "code",
   "execution_count": 8,
   "metadata": {},
   "outputs": [
    {
     "name": "stdout",
     "output_type": "stream",
     "text": [
      "<class 'pandas.core.frame.DataFrame'>\n",
      "RangeIndex: 128858 entries, 0 to 128857\n",
      "Data columns (total 14 columns):\n",
      "session_id                128858 non-null int64\n",
      "DateTime                  128858 non-null object\n",
      "user_id                   128858 non-null int64\n",
      "product                   128858 non-null object\n",
      "campaign_id               128858 non-null int64\n",
      "webpage_id                128858 non-null int64\n",
      "product_category_1        128858 non-null int64\n",
      "product_category_2        52687 non-null float64\n",
      "user_group_id             123174 non-null float64\n",
      "gender                    123174 non-null object\n",
      "age_level                 123174 non-null float64\n",
      "user_depth                123174 non-null float64\n",
      "city_development_index    94249 non-null float64\n",
      "var_1                     128858 non-null int64\n",
      "dtypes: float64(5), int64(6), object(3)\n",
      "memory usage: 13.8+ MB\n"
     ]
    }
   ],
   "source": [
    "df1.info()"
   ]
  },
  {
   "cell_type": "markdown",
   "metadata": {},
   "source": [
    "checking the descriptive statistics of the training and test set"
   ]
  },
  {
   "cell_type": "code",
   "execution_count": 9,
   "metadata": {},
   "outputs": [
    {
     "data": {
      "text/html": [
       "<div>\n",
       "<table border=\"1\" class=\"dataframe\">\n",
       "  <thead>\n",
       "    <tr style=\"text-align: right;\">\n",
       "      <th></th>\n",
       "      <th>session_id</th>\n",
       "      <th>user_id</th>\n",
       "      <th>campaign_id</th>\n",
       "      <th>webpage_id</th>\n",
       "      <th>product_category_1</th>\n",
       "      <th>product_category_2</th>\n",
       "      <th>user_group_id</th>\n",
       "      <th>age_level</th>\n",
       "      <th>user_depth</th>\n",
       "      <th>city_development_index</th>\n",
       "      <th>var_1</th>\n",
       "      <th>is_click</th>\n",
       "    </tr>\n",
       "  </thead>\n",
       "  <tbody>\n",
       "    <tr>\n",
       "      <th>count</th>\n",
       "      <td>463291.000000</td>\n",
       "      <td>4.632910e+05</td>\n",
       "      <td>463291.000000</td>\n",
       "      <td>463291.000000</td>\n",
       "      <td>463291.000000</td>\n",
       "      <td>97437.000000</td>\n",
       "      <td>445048.000000</td>\n",
       "      <td>445048.000000</td>\n",
       "      <td>445048.000000</td>\n",
       "      <td>338162.000000</td>\n",
       "      <td>463291.000000</td>\n",
       "      <td>463291.000000</td>\n",
       "    </tr>\n",
       "    <tr>\n",
       "      <th>mean</th>\n",
       "      <td>285544.090725</td>\n",
       "      <td>5.460497e+05</td>\n",
       "      <td>308474.540069</td>\n",
       "      <td>29685.878994</td>\n",
       "      <td>3.072427</td>\n",
       "      <td>162753.345105</td>\n",
       "      <td>3.477396</td>\n",
       "      <td>2.782266</td>\n",
       "      <td>2.878415</td>\n",
       "      <td>2.557121</td>\n",
       "      <td>0.422169</td>\n",
       "      <td>0.067627</td>\n",
       "    </tr>\n",
       "    <tr>\n",
       "      <th>std</th>\n",
       "      <td>168577.345887</td>\n",
       "      <td>3.294625e+05</td>\n",
       "      <td>126517.101294</td>\n",
       "      <td>21542.053106</td>\n",
       "      <td>1.304233</td>\n",
       "      <td>78743.742720</td>\n",
       "      <td>2.412889</td>\n",
       "      <td>1.069701</td>\n",
       "      <td>0.400130</td>\n",
       "      <td>0.921345</td>\n",
       "      <td>0.493906</td>\n",
       "      <td>0.251105</td>\n",
       "    </tr>\n",
       "    <tr>\n",
       "      <th>min</th>\n",
       "      <td>2.000000</td>\n",
       "      <td>4.000000e+00</td>\n",
       "      <td>82320.000000</td>\n",
       "      <td>1734.000000</td>\n",
       "      <td>1.000000</td>\n",
       "      <td>18595.000000</td>\n",
       "      <td>0.000000</td>\n",
       "      <td>0.000000</td>\n",
       "      <td>1.000000</td>\n",
       "      <td>1.000000</td>\n",
       "      <td>0.000000</td>\n",
       "      <td>0.000000</td>\n",
       "    </tr>\n",
       "    <tr>\n",
       "      <th>25%</th>\n",
       "      <td>137856.500000</td>\n",
       "      <td>2.578550e+05</td>\n",
       "      <td>118601.000000</td>\n",
       "      <td>13787.000000</td>\n",
       "      <td>2.000000</td>\n",
       "      <td>82527.000000</td>\n",
       "      <td>2.000000</td>\n",
       "      <td>2.000000</td>\n",
       "      <td>3.000000</td>\n",
       "      <td>2.000000</td>\n",
       "      <td>0.000000</td>\n",
       "      <td>0.000000</td>\n",
       "    </tr>\n",
       "    <tr>\n",
       "      <th>50%</th>\n",
       "      <td>285429.000000</td>\n",
       "      <td>5.318010e+05</td>\n",
       "      <td>359520.000000</td>\n",
       "      <td>13787.000000</td>\n",
       "      <td>3.000000</td>\n",
       "      <td>146115.000000</td>\n",
       "      <td>3.000000</td>\n",
       "      <td>3.000000</td>\n",
       "      <td>3.000000</td>\n",
       "      <td>2.000000</td>\n",
       "      <td>0.000000</td>\n",
       "      <td>0.000000</td>\n",
       "    </tr>\n",
       "    <tr>\n",
       "      <th>75%</th>\n",
       "      <td>435535.500000</td>\n",
       "      <td>8.278490e+05</td>\n",
       "      <td>405490.000000</td>\n",
       "      <td>53587.000000</td>\n",
       "      <td>4.000000</td>\n",
       "      <td>254132.000000</td>\n",
       "      <td>4.000000</td>\n",
       "      <td>3.000000</td>\n",
       "      <td>3.000000</td>\n",
       "      <td>3.000000</td>\n",
       "      <td>1.000000</td>\n",
       "      <td>0.000000</td>\n",
       "    </tr>\n",
       "    <tr>\n",
       "      <th>max</th>\n",
       "      <td>595812.000000</td>\n",
       "      <td>1.141729e+06</td>\n",
       "      <td>414149.000000</td>\n",
       "      <td>60305.000000</td>\n",
       "      <td>5.000000</td>\n",
       "      <td>450184.000000</td>\n",
       "      <td>12.000000</td>\n",
       "      <td>6.000000</td>\n",
       "      <td>3.000000</td>\n",
       "      <td>4.000000</td>\n",
       "      <td>1.000000</td>\n",
       "      <td>1.000000</td>\n",
       "    </tr>\n",
       "  </tbody>\n",
       "</table>\n",
       "</div>"
      ],
      "text/plain": [
       "          session_id       user_id    campaign_id     webpage_id  \\\n",
       "count  463291.000000  4.632910e+05  463291.000000  463291.000000   \n",
       "mean   285544.090725  5.460497e+05  308474.540069   29685.878994   \n",
       "std    168577.345887  3.294625e+05  126517.101294   21542.053106   \n",
       "min         2.000000  4.000000e+00   82320.000000    1734.000000   \n",
       "25%    137856.500000  2.578550e+05  118601.000000   13787.000000   \n",
       "50%    285429.000000  5.318010e+05  359520.000000   13787.000000   \n",
       "75%    435535.500000  8.278490e+05  405490.000000   53587.000000   \n",
       "max    595812.000000  1.141729e+06  414149.000000   60305.000000   \n",
       "\n",
       "       product_category_1  product_category_2  user_group_id      age_level  \\\n",
       "count       463291.000000        97437.000000  445048.000000  445048.000000   \n",
       "mean             3.072427       162753.345105       3.477396       2.782266   \n",
       "std              1.304233        78743.742720       2.412889       1.069701   \n",
       "min              1.000000        18595.000000       0.000000       0.000000   \n",
       "25%              2.000000        82527.000000       2.000000       2.000000   \n",
       "50%              3.000000       146115.000000       3.000000       3.000000   \n",
       "75%              4.000000       254132.000000       4.000000       3.000000   \n",
       "max              5.000000       450184.000000      12.000000       6.000000   \n",
       "\n",
       "          user_depth  city_development_index          var_1       is_click  \n",
       "count  445048.000000           338162.000000  463291.000000  463291.000000  \n",
       "mean        2.878415                2.557121       0.422169       0.067627  \n",
       "std         0.400130                0.921345       0.493906       0.251105  \n",
       "min         1.000000                1.000000       0.000000       0.000000  \n",
       "25%         3.000000                2.000000       0.000000       0.000000  \n",
       "50%         3.000000                2.000000       0.000000       0.000000  \n",
       "75%         3.000000                3.000000       1.000000       0.000000  \n",
       "max         3.000000                4.000000       1.000000       1.000000  "
      ]
     },
     "execution_count": 9,
     "metadata": {},
     "output_type": "execute_result"
    }
   ],
   "source": [
    "df.describe()"
   ]
  },
  {
   "cell_type": "code",
   "execution_count": 10,
   "metadata": {},
   "outputs": [
    {
     "data": {
      "text/html": [
       "<div>\n",
       "<table border=\"1\" class=\"dataframe\">\n",
       "  <thead>\n",
       "    <tr style=\"text-align: right;\">\n",
       "      <th></th>\n",
       "      <th>session_id</th>\n",
       "      <th>user_id</th>\n",
       "      <th>campaign_id</th>\n",
       "      <th>webpage_id</th>\n",
       "      <th>product_category_1</th>\n",
       "      <th>product_category_2</th>\n",
       "      <th>user_group_id</th>\n",
       "      <th>age_level</th>\n",
       "      <th>user_depth</th>\n",
       "      <th>city_development_index</th>\n",
       "      <th>var_1</th>\n",
       "    </tr>\n",
       "  </thead>\n",
       "  <tbody>\n",
       "    <tr>\n",
       "      <th>count</th>\n",
       "      <td>128858.000000</td>\n",
       "      <td>1.288580e+05</td>\n",
       "      <td>128858.000000</td>\n",
       "      <td>128858.000000</td>\n",
       "      <td>128858.000000</td>\n",
       "      <td>52687.000000</td>\n",
       "      <td>123174.000000</td>\n",
       "      <td>123174.000000</td>\n",
       "      <td>123174.000000</td>\n",
       "      <td>94249.000000</td>\n",
       "      <td>128858.000000</td>\n",
       "    </tr>\n",
       "    <tr>\n",
       "      <th>mean</th>\n",
       "      <td>342583.536117</td>\n",
       "      <td>5.463770e+05</td>\n",
       "      <td>233272.064660</td>\n",
       "      <td>25789.437039</td>\n",
       "      <td>3.505052</td>\n",
       "      <td>127030.903183</td>\n",
       "      <td>3.533465</td>\n",
       "      <td>2.820230</td>\n",
       "      <td>2.876476</td>\n",
       "      <td>2.562796</td>\n",
       "      <td>0.387062</td>\n",
       "    </tr>\n",
       "    <tr>\n",
       "      <th>std</th>\n",
       "      <td>176742.967152</td>\n",
       "      <td>3.292898e+05</td>\n",
       "      <td>137538.509293</td>\n",
       "      <td>17998.971330</td>\n",
       "      <td>1.449608</td>\n",
       "      <td>74586.095260</td>\n",
       "      <td>2.455897</td>\n",
       "      <td>1.093987</td>\n",
       "      <td>0.403052</td>\n",
       "      <td>0.922149</td>\n",
       "      <td>0.487080</td>\n",
       "    </tr>\n",
       "    <tr>\n",
       "      <th>min</th>\n",
       "      <td>1.000000</td>\n",
       "      <td>4.000000e+00</td>\n",
       "      <td>82320.000000</td>\n",
       "      <td>1734.000000</td>\n",
       "      <td>1.000000</td>\n",
       "      <td>18595.000000</td>\n",
       "      <td>0.000000</td>\n",
       "      <td>0.000000</td>\n",
       "      <td>1.000000</td>\n",
       "      <td>1.000000</td>\n",
       "      <td>0.000000</td>\n",
       "    </tr>\n",
       "    <tr>\n",
       "      <th>25%</th>\n",
       "      <td>207832.250000</td>\n",
       "      <td>2.592650e+05</td>\n",
       "      <td>105960.000000</td>\n",
       "      <td>11085.000000</td>\n",
       "      <td>2.000000</td>\n",
       "      <td>82527.000000</td>\n",
       "      <td>2.000000</td>\n",
       "      <td>2.000000</td>\n",
       "      <td>3.000000</td>\n",
       "      <td>2.000000</td>\n",
       "      <td>0.000000</td>\n",
       "    </tr>\n",
       "    <tr>\n",
       "      <th>50%</th>\n",
       "      <td>350013.000000</td>\n",
       "      <td>5.300870e+05</td>\n",
       "      <td>118601.000000</td>\n",
       "      <td>28529.000000</td>\n",
       "      <td>4.000000</td>\n",
       "      <td>82527.000000</td>\n",
       "      <td>3.000000</td>\n",
       "      <td>3.000000</td>\n",
       "      <td>3.000000</td>\n",
       "      <td>2.000000</td>\n",
       "      <td>0.000000</td>\n",
       "    </tr>\n",
       "    <tr>\n",
       "      <th>75%</th>\n",
       "      <td>525928.250000</td>\n",
       "      <td>8.262290e+05</td>\n",
       "      <td>360936.000000</td>\n",
       "      <td>28529.000000</td>\n",
       "      <td>5.000000</td>\n",
       "      <td>146115.000000</td>\n",
       "      <td>4.000000</td>\n",
       "      <td>3.000000</td>\n",
       "      <td>3.000000</td>\n",
       "      <td>3.000000</td>\n",
       "      <td>1.000000</td>\n",
       "    </tr>\n",
       "    <tr>\n",
       "      <th>max</th>\n",
       "      <td>595813.000000</td>\n",
       "      <td>1.141714e+06</td>\n",
       "      <td>414149.000000</td>\n",
       "      <td>60305.000000</td>\n",
       "      <td>5.000000</td>\n",
       "      <td>450184.000000</td>\n",
       "      <td>12.000000</td>\n",
       "      <td>6.000000</td>\n",
       "      <td>3.000000</td>\n",
       "      <td>4.000000</td>\n",
       "      <td>1.000000</td>\n",
       "    </tr>\n",
       "  </tbody>\n",
       "</table>\n",
       "</div>"
      ],
      "text/plain": [
       "          session_id       user_id    campaign_id     webpage_id  \\\n",
       "count  128858.000000  1.288580e+05  128858.000000  128858.000000   \n",
       "mean   342583.536117  5.463770e+05  233272.064660   25789.437039   \n",
       "std    176742.967152  3.292898e+05  137538.509293   17998.971330   \n",
       "min         1.000000  4.000000e+00   82320.000000    1734.000000   \n",
       "25%    207832.250000  2.592650e+05  105960.000000   11085.000000   \n",
       "50%    350013.000000  5.300870e+05  118601.000000   28529.000000   \n",
       "75%    525928.250000  8.262290e+05  360936.000000   28529.000000   \n",
       "max    595813.000000  1.141714e+06  414149.000000   60305.000000   \n",
       "\n",
       "       product_category_1  product_category_2  user_group_id      age_level  \\\n",
       "count       128858.000000        52687.000000  123174.000000  123174.000000   \n",
       "mean             3.505052       127030.903183       3.533465       2.820230   \n",
       "std              1.449608        74586.095260       2.455897       1.093987   \n",
       "min              1.000000        18595.000000       0.000000       0.000000   \n",
       "25%              2.000000        82527.000000       2.000000       2.000000   \n",
       "50%              4.000000        82527.000000       3.000000       3.000000   \n",
       "75%              5.000000       146115.000000       4.000000       3.000000   \n",
       "max              5.000000       450184.000000      12.000000       6.000000   \n",
       "\n",
       "          user_depth  city_development_index          var_1  \n",
       "count  123174.000000            94249.000000  128858.000000  \n",
       "mean        2.876476                2.562796       0.387062  \n",
       "std         0.403052                0.922149       0.487080  \n",
       "min         1.000000                1.000000       0.000000  \n",
       "25%         3.000000                2.000000       0.000000  \n",
       "50%         3.000000                2.000000       0.000000  \n",
       "75%         3.000000                3.000000       1.000000  \n",
       "max         3.000000                4.000000       1.000000  "
      ]
     },
     "execution_count": 10,
     "metadata": {},
     "output_type": "execute_result"
    }
   ],
   "source": [
    "df1.describe()"
   ]
  },
  {
   "cell_type": "markdown",
   "metadata": {},
   "source": [
    "4 Data preprocessing and data visualization"
   ]
  },
  {
   "cell_type": "code",
   "execution_count": 11,
   "metadata": {},
   "outputs": [
    {
     "data": {
      "text/plain": [
       "session_id                     0\n",
       "DateTime                       0\n",
       "user_id                        0\n",
       "product                        0\n",
       "campaign_id                    0\n",
       "webpage_id                     0\n",
       "product_category_1             0\n",
       "product_category_2        365854\n",
       "user_group_id              18243\n",
       "gender                     18243\n",
       "age_level                  18243\n",
       "user_depth                 18243\n",
       "city_development_index    125129\n",
       "var_1                          0\n",
       "is_click                       0\n",
       "dtype: int64"
      ]
     },
     "execution_count": 11,
     "metadata": {},
     "output_type": "execute_result"
    }
   ],
   "source": [
    "df.isnull().sum()"
   ]
  },
  {
   "cell_type": "code",
   "execution_count": 12,
   "metadata": {},
   "outputs": [
    {
     "data": {
      "text/plain": [
       "(18595.0, 450184.0, 162753.34510504224)"
      ]
     },
     "execution_count": 12,
     "metadata": {},
     "output_type": "execute_result"
    }
   ],
   "source": [
    "df['product_category_2'].min(), df['product_category_2'].max(), df['product_category_2'].mean()"
   ]
  },
  {
   "cell_type": "code",
   "execution_count": 13,
   "metadata": {
    "collapsed": true
   },
   "outputs": [],
   "source": [
    "df['product_category_2'] = df['product_category_2'].fillna(value=450184.0)"
   ]
  },
  {
   "cell_type": "code",
   "execution_count": 14,
   "metadata": {
    "collapsed": true
   },
   "outputs": [],
   "source": [
    "df['product_category_2'] = np.log(df['product_category_2']).astype('int64')"
   ]
  },
  {
   "cell_type": "code",
   "execution_count": 15,
   "metadata": {},
   "outputs": [
    {
     "data": {
      "text/plain": [
       "<matplotlib.axes._subplots.AxesSubplot at 0x28490430358>"
      ]
     },
     "execution_count": 15,
     "metadata": {},
     "output_type": "execute_result"
    },
    {
     "data": {
      "image/png": "[encoded data removed]",
      "text/plain": [
       "<matplotlib.figure.Figure at 0x2849047bf98>"
      ]
     },
     "metadata": {},
     "output_type": "display_data"
    }
   ],
   "source": [
    "sns.barplot(x='product_category_2', y='product_category_1', data=df)"
   ]
  },
  {
   "cell_type": "code",
   "execution_count": 16,
   "metadata": {
    "collapsed": true
   },
   "outputs": [],
   "source": [
    "sns.set_style('whitegrid')"
   ]
  },
  {
   "cell_type": "code",
   "execution_count": 17,
   "metadata": {},
   "outputs": [
    {
     "data": {
      "text/plain": [
       "(12.0, 0.0, 3.0)"
      ]
     },
     "execution_count": 17,
     "metadata": {},
     "output_type": "execute_result"
    }
   ],
   "source": [
    "df['user_group_id'].max(), df['user_group_id'].min(), df['user_group_id'].median()"
   ]
  },
  {
   "cell_type": "code",
   "execution_count": null,
   "metadata": {
    "collapsed": true
   },
   "outputs": [],
   "source": []
  },
  {
   "cell_type": "code",
   "execution_count": 18,
   "metadata": {},
   "outputs": [
    {
     "data": {
      "text/plain": [
       "3.0     140317\n",
       "2.0     137278\n",
       "4.0      50080\n",
       "1.0      41946\n",
       "5.0      21989\n",
       "9.0      20264\n",
       "10.0     13779\n",
       "11.0      8839\n",
       "8.0       6223\n",
       "6.0       1724\n",
       "7.0       1421\n",
       "12.0      1035\n",
       "0.0        153\n",
       "Name: user_group_id, dtype: int64"
      ]
     },
     "execution_count": 18,
     "metadata": {},
     "output_type": "execute_result"
    }
   ],
   "source": [
    "df['user_group_id'].value_counts()"
   ]
  },
  {
   "cell_type": "code",
   "execution_count": 19,
   "metadata": {},
   "outputs": [
    {
     "data": {
      "text/plain": [
       "<matplotlib.axes._subplots.AxesSubplot at 0x284905d6d30>"
      ]
     },
     "execution_count": 19,
     "metadata": {},
     "output_type": "execute_result"
    },
    {
     "data": {
      "image/png": "[encoded data removed]",
      "text/plain": [
       "<matplotlib.figure.Figure at 0x284909f80f0>"
      ]
     },
     "metadata": {},
     "output_type": "display_data"
    }
   ],
   "source": [
    "sns.countplot(x='user_group_id', hue='gender', data=df)"
   ]
  },
  {
   "cell_type": "code",
   "execution_count": 20,
   "metadata": {},
   "outputs": [
    {
     "data": {
      "text/plain": [
       "<matplotlib.axes._subplots.AxesSubplot at 0x28490a94fd0>"
      ]
     },
     "execution_count": 20,
     "metadata": {},
     "output_type": "execute_result"
    },
    {
     "data": {
      "image/png": "[encoded data removed]",
      "text/plain": [
       "<matplotlib.figure.Figure at 0x284909b0be0>"
      ]
     },
     "metadata": {},
     "output_type": "display_data"
    }
   ],
   "source": [
    "sns.countplot(x='user_group_id', hue='is_click', data=df)"
   ]
  },
  {
   "cell_type": "code",
   "execution_count": 21,
   "metadata": {},
   "outputs": [
    {
     "data": {
      "text/plain": [
       "<matplotlib.axes._subplots.AxesSubplot at 0x28490bdc780>"
      ]
     },
     "execution_count": 21,
     "metadata": {},
     "output_type": "execute_result"
    },
    {
     "data": {
      "image/png": "[encoded data removed]",
      "text/plain": [
       "<matplotlib.figure.Figure at 0x2849058afd0>"
      ]
     },
     "metadata": {},
     "output_type": "display_data"
    }
   ],
   "source": [
    "sns.countplot(x='gender', hue='is_click', data=df)"
   ]
  },
  {
   "cell_type": "code",
   "execution_count": 22,
   "metadata": {},
   "outputs": [
    {
     "name": "stdout",
     "output_type": "stream",
     "text": [
      "<class 'pandas.core.frame.DataFrame'>\n",
      "RangeIndex: 463291 entries, 0 to 463290\n",
      "Data columns (total 15 columns):\n",
      "session_id                463291 non-null int64\n",
      "DateTime                  463291 non-null object\n",
      "user_id                   463291 non-null int64\n",
      "product                   463291 non-null object\n",
      "campaign_id               463291 non-null int64\n",
      "webpage_id                463291 non-null int64\n",
      "product_category_1        463291 non-null int64\n",
      "product_category_2        463291 non-null int64\n",
      "user_group_id             445048 non-null float64\n",
      "gender                    445048 non-null object\n",
      "age_level                 445048 non-null float64\n",
      "user_depth                445048 non-null float64\n",
      "city_development_index    338162 non-null float64\n",
      "var_1                     463291 non-null int64\n",
      "is_click                  463291 non-null int64\n",
      "dtypes: float64(4), int64(8), object(3)\n",
      "memory usage: 53.0+ MB\n"
     ]
    }
   ],
   "source": [
    "df.info()"
   ]
  },
  {
   "cell_type": "code",
   "execution_count": 23,
   "metadata": {
    "collapsed": true
   },
   "outputs": [],
   "source": [
    "df['user_group_id'] = df['user_group_id'].fillna(value=3.0)"
   ]
  },
  {
   "cell_type": "code",
   "execution_count": 24,
   "metadata": {
    "collapsed": true
   },
   "outputs": [],
   "source": [
    "df['gender'] = df['gender'].fillna(value='Female')"
   ]
  },
  {
   "cell_type": "code",
   "execution_count": 25,
   "metadata": {
    "collapsed": true
   },
   "outputs": [],
   "source": [
    "df['age_level'] = df['age_level'].fillna(value=3.0)"
   ]
  },
  {
   "cell_type": "code",
   "execution_count": 26,
   "metadata": {},
   "outputs": [
    {
     "data": {
      "text/plain": [
       "3.0    402798\n",
       "2.0     30389\n",
       "1.0     11861\n",
       "Name: user_depth, dtype: int64"
      ]
     },
     "execution_count": 26,
     "metadata": {},
     "output_type": "execute_result"
    }
   ],
   "source": [
    "df['user_depth'].value_counts()"
   ]
  },
  {
   "cell_type": "code",
   "execution_count": 27,
   "metadata": {},
   "outputs": [
    {
     "data": {
      "text/plain": [
       "<matplotlib.axes._subplots.AxesSubplot at 0x28491636240>"
      ]
     },
     "execution_count": 27,
     "metadata": {},
     "output_type": "execute_result"
    },
    {
     "data": {
      "image/png": "[encoded data removed]",
      "text/plain": [
       "<matplotlib.figure.Figure at 0x284916a3da0>"
      ]
     },
     "metadata": {},
     "output_type": "display_data"
    }
   ],
   "source": [
    "sns.countplot(x='user_depth', hue='is_click', data=df)"
   ]
  },
  {
   "cell_type": "code",
   "execution_count": 28,
   "metadata": {
    "collapsed": true
   },
   "outputs": [],
   "source": [
    "df['user_depth'] = df['user_depth'].fillna(value=3.0)"
   ]
  },
  {
   "cell_type": "code",
   "execution_count": 29,
   "metadata": {
    "collapsed": true
   },
   "outputs": [],
   "source": [
    "df['city_development_index'] = df['city_development_index'].fillna(value=2.0)"
   ]
  },
  {
   "cell_type": "code",
   "execution_count": 30,
   "metadata": {
    "collapsed": true
   },
   "outputs": [],
   "source": [
    "df['DateTime'] = pd.to_datetime(df['DateTime'])"
   ]
  },
  {
   "cell_type": "code",
   "execution_count": 36,
   "metadata": {},
   "outputs": [
    {
     "ename": "TypeError",
     "evalue": "data type \"datetime\" not understood",
     "output_type": "error",
     "traceback": [
      "\u001b[0;31m---------------------------------------------------------------------------\u001b[0m",
      "\u001b[0;31mTypeError\u001b[0m                                 Traceback (most recent call last)",
      "\u001b[0;32m<ipython-input-36-33ac01d9f898>\u001b[0m in \u001b[0;36m<module>\u001b[0;34m()\u001b[0m\n\u001b[0;32m----> 1\u001b[0;31m \u001b[0mdf\u001b[0m\u001b[1;33m[\u001b[0m\u001b[1;34m'DateTime'\u001b[0m\u001b[1;33m]\u001b[0m \u001b[1;33m=\u001b[0m \u001b[0mdf\u001b[0m\u001b[1;33m[\u001b[0m\u001b[1;34m'DateTime'\u001b[0m\u001b[1;33m]\u001b[0m \u001b[1;33m*\u001b[0m \u001b[1;36m60\u001b[0m\u001b[1;33m\u001b[0m\u001b[0m\n\u001b[0m",
      "\u001b[0;32mC:\\Users\\Raheem Nasiru\\AppData\\Local\\Continuum\\Anaconda3\\lib\\site-packages\\pandas\\core\\ops.py\u001b[0m in \u001b[0;36mwrapper\u001b[0;34m(left, right, name, na_op)\u001b[0m\n\u001b[1;32m    694\u001b[0m         \u001b[0mleft\u001b[0m\u001b[1;33m,\u001b[0m \u001b[0mright\u001b[0m \u001b[1;33m=\u001b[0m \u001b[0m_align_method_SERIES\u001b[0m\u001b[1;33m(\u001b[0m\u001b[0mleft\u001b[0m\u001b[1;33m,\u001b[0m \u001b[0mright\u001b[0m\u001b[1;33m)\u001b[0m\u001b[1;33m\u001b[0m\u001b[0m\n\u001b[1;32m    695\u001b[0m \u001b[1;33m\u001b[0m\u001b[0m\n\u001b[0;32m--> 696\u001b[0;31m         \u001b[0mconverted\u001b[0m \u001b[1;33m=\u001b[0m \u001b[0m_Op\u001b[0m\u001b[1;33m.\u001b[0m\u001b[0mget_op\u001b[0m\u001b[1;33m(\u001b[0m\u001b[0mleft\u001b[0m\u001b[1;33m,\u001b[0m \u001b[0mright\u001b[0m\u001b[1;33m,\u001b[0m \u001b[0mname\u001b[0m\u001b[1;33m,\u001b[0m \u001b[0mna_op\u001b[0m\u001b[1;33m)\u001b[0m\u001b[1;33m\u001b[0m\u001b[0m\n\u001b[0m\u001b[1;32m    697\u001b[0m \u001b[1;33m\u001b[0m\u001b[0m\n\u001b[1;32m    698\u001b[0m         \u001b[0mleft\u001b[0m\u001b[1;33m,\u001b[0m \u001b[0mright\u001b[0m \u001b[1;33m=\u001b[0m \u001b[0mconverted\u001b[0m\u001b[1;33m.\u001b[0m\u001b[0mleft\u001b[0m\u001b[1;33m,\u001b[0m \u001b[0mconverted\u001b[0m\u001b[1;33m.\u001b[0m\u001b[0mright\u001b[0m\u001b[1;33m\u001b[0m\u001b[0m\n",
      "\u001b[0;32mC:\\Users\\Raheem Nasiru\\AppData\\Local\\Continuum\\Anaconda3\\lib\\site-packages\\pandas\\core\\ops.py\u001b[0m in \u001b[0;36mget_op\u001b[0;34m(cls, left, right, name, na_op)\u001b[0m\n\u001b[1;32m    328\u001b[0m             \u001b[1;32mreturn\u001b[0m \u001b[0m_Op\u001b[0m\u001b[1;33m(\u001b[0m\u001b[0mleft\u001b[0m\u001b[1;33m,\u001b[0m \u001b[0mright\u001b[0m\u001b[1;33m,\u001b[0m \u001b[0mname\u001b[0m\u001b[1;33m,\u001b[0m \u001b[0mna_op\u001b[0m\u001b[1;33m)\u001b[0m\u001b[1;33m\u001b[0m\u001b[0m\n\u001b[1;32m    329\u001b[0m         \u001b[1;32melse\u001b[0m\u001b[1;33m:\u001b[0m\u001b[1;33m\u001b[0m\u001b[0m\n\u001b[0;32m--> 330\u001b[0;31m             \u001b[1;32mreturn\u001b[0m \u001b[0m_TimeOp\u001b[0m\u001b[1;33m(\u001b[0m\u001b[0mleft\u001b[0m\u001b[1;33m,\u001b[0m \u001b[0mright\u001b[0m\u001b[1;33m,\u001b[0m \u001b[0mname\u001b[0m\u001b[1;33m,\u001b[0m \u001b[0mna_op\u001b[0m\u001b[1;33m)\u001b[0m\u001b[1;33m\u001b[0m\u001b[0m\n\u001b[0m\u001b[1;32m    331\u001b[0m \u001b[1;33m\u001b[0m\u001b[0m\n\u001b[1;32m    332\u001b[0m \u001b[1;33m\u001b[0m\u001b[0m\n",
      "\u001b[0;32mC:\\Users\\Raheem Nasiru\\AppData\\Local\\Continuum\\Anaconda3\\lib\\site-packages\\pandas\\core\\ops.py\u001b[0m in \u001b[0;36m__init__\u001b[0;34m(self, left, right, name, na_op)\u001b[0m\n\u001b[1;32m    341\u001b[0m         \u001b[0msuper\u001b[0m\u001b[1;33m(\u001b[0m\u001b[0m_TimeOp\u001b[0m\u001b[1;33m,\u001b[0m \u001b[0mself\u001b[0m\u001b[1;33m)\u001b[0m\u001b[1;33m.\u001b[0m\u001b[0m__init__\u001b[0m\u001b[1;33m(\u001b[0m\u001b[0mleft\u001b[0m\u001b[1;33m,\u001b[0m \u001b[0mright\u001b[0m\u001b[1;33m,\u001b[0m \u001b[0mname\u001b[0m\u001b[1;33m,\u001b[0m \u001b[0mna_op\u001b[0m\u001b[1;33m)\u001b[0m\u001b[1;33m\u001b[0m\u001b[0m\n\u001b[1;32m    342\u001b[0m \u001b[1;33m\u001b[0m\u001b[0m\n\u001b[0;32m--> 343\u001b[0;31m         \u001b[0mlvalues\u001b[0m \u001b[1;33m=\u001b[0m \u001b[0mself\u001b[0m\u001b[1;33m.\u001b[0m\u001b[0m_convert_to_array\u001b[0m\u001b[1;33m(\u001b[0m\u001b[0mleft\u001b[0m\u001b[1;33m,\u001b[0m \u001b[0mname\u001b[0m\u001b[1;33m=\u001b[0m\u001b[0mname\u001b[0m\u001b[1;33m)\u001b[0m\u001b[1;33m\u001b[0m\u001b[0m\n\u001b[0m\u001b[1;32m    344\u001b[0m         \u001b[0mrvalues\u001b[0m \u001b[1;33m=\u001b[0m \u001b[0mself\u001b[0m\u001b[1;33m.\u001b[0m\u001b[0m_convert_to_array\u001b[0m\u001b[1;33m(\u001b[0m\u001b[0mright\u001b[0m\u001b[1;33m,\u001b[0m \u001b[0mname\u001b[0m\u001b[1;33m=\u001b[0m\u001b[0mname\u001b[0m\u001b[1;33m,\u001b[0m \u001b[0mother\u001b[0m\u001b[1;33m=\u001b[0m\u001b[0mlvalues\u001b[0m\u001b[1;33m)\u001b[0m\u001b[1;33m\u001b[0m\u001b[0m\n\u001b[1;32m    345\u001b[0m \u001b[1;33m\u001b[0m\u001b[0m\n",
      "\u001b[0;32mC:\\Users\\Raheem Nasiru\\AppData\\Local\\Continuum\\Anaconda3\\lib\\site-packages\\pandas\\core\\ops.py\u001b[0m in \u001b[0;36m_convert_to_array\u001b[0;34m(self, values, name, other)\u001b[0m\n\u001b[1;32m    452\u001b[0m             \u001b[0msupplied_dtype\u001b[0m \u001b[1;33m=\u001b[0m \u001b[0mvalues\u001b[0m\u001b[1;33m.\u001b[0m\u001b[0mdtype\u001b[0m\u001b[1;33m\u001b[0m\u001b[0m\n\u001b[1;32m    453\u001b[0m         \u001b[0minferred_type\u001b[0m \u001b[1;33m=\u001b[0m \u001b[0msupplied_dtype\u001b[0m \u001b[1;32mor\u001b[0m \u001b[0mlib\u001b[0m\u001b[1;33m.\u001b[0m\u001b[0minfer_dtype\u001b[0m\u001b[1;33m(\u001b[0m\u001b[0mvalues\u001b[0m\u001b[1;33m)\u001b[0m\u001b[1;33m\u001b[0m\u001b[0m\n\u001b[0;32m--> 454\u001b[0;31m         if (inferred_type in ('datetime64', 'datetime', 'date', 'time') or\n\u001b[0m\u001b[1;32m    455\u001b[0m                 is_datetimetz(inferred_type)):\n\u001b[1;32m    456\u001b[0m             \u001b[1;31m# if we have a other of timedelta, but use pd.NaT here we\u001b[0m\u001b[1;33m\u001b[0m\u001b[1;33m\u001b[0m\u001b[0m\n",
      "\u001b[0;31mTypeError\u001b[0m: data type \"datetime\" not understood"
     ]
    }
   ],
   "source": [
    "df['DateTime'] = df['DateTime']"
   ]
  },
  {
   "cell_type": "code",
   "execution_count": 33,
   "metadata": {
    "collapsed": true
   },
   "outputs": [],
   "source": [
    "df.drop(['session_id','user_id', 'campaign_id', 'webpage_id'],axis=1, inplace=True)"
   ]
  },
  {
   "cell_type": "code",
   "execution_count": null,
   "metadata": {
    "collapsed": true
   },
   "outputs": [],
   "source": [
    "df = pd.get_dummies(df)"
   ]
  },
  {
   "cell_type": "code",
   "execution_count": null,
   "metadata": {},
   "outputs": [],
   "source": [
    "df.head()"
   ]
  },
  {
   "cell_type": "code",
   "execution_count": null,
   "metadata": {
    "collapsed": true
   },
   "outputs": [],
   "source": [
    "df1.fillna(0, inplace=True)"
   ]
  },
  {
   "cell_type": "code",
   "execution_count": null,
   "metadata": {
    "collapsed": true
   },
   "outputs": [],
   "source": [
    "X = df.drop('is_click', axis=1)\n",
    "y = df.is_click"
   ]
  },
  {
   "cell_type": "code",
   "execution_count": null,
   "metadata": {
    "collapsed": true
   },
   "outputs": [],
   "source": [
    "from sklearn.model_selection import train_test_split"
   ]
  },
  {
   "cell_type": "code",
   "execution_count": null,
   "metadata": {
    "collapsed": true
   },
   "outputs": [],
   "source": [
    "X_train, X_test, y_train, y_test = train_test_split(X, y, test_size=0.28, random_state=101)"
   ]
  },
  {
   "cell_type": "code",
   "execution_count": null,
   "metadata": {
    "collapsed": true
   },
   "outputs": [],
   "source": [
    "from sklearn.ensemble import RandomForestClassifier"
   ]
  },
  {
   "cell_type": "code",
   "execution_count": null,
   "metadata": {
    "collapsed": true
   },
   "outputs": [],
   "source": [
    "rf = RandomForestClassifier()"
   ]
  },
  {
   "cell_type": "code",
   "execution_count": null,
   "metadata": {},
   "outputs": [],
   "source": [
    "rf.fit(X_train, y_train)"
   ]
  },
  {
   "cell_type": "code",
   "execution_count": null,
   "metadata": {
    "collapsed": true
   },
   "outputs": [],
   "source": [
    "pre = rf.predict(X_test)"
   ]
  },
  {
   "cell_type": "code",
   "execution_count": null,
   "metadata": {
    "collapsed": true
   },
   "outputs": [],
   "source": [
    "from sklearn.metrics import classification_report, accuracy_score, confusion_matrix"
   ]
  },
  {
   "cell_type": "code",
   "execution_count": null,
   "metadata": {},
   "outputs": [],
   "source": [
    "print(classification_report(y_test, pre))"
   ]
  },
  {
   "cell_type": "code",
   "execution_count": null,
   "metadata": {},
   "outputs": [],
   "source": [
    "print(confusion_matrix(y_test, pre))"
   ]
  },
  {
   "cell_type": "code",
   "execution_count": null,
   "metadata": {},
   "outputs": [],
   "source": [
    "print(accuracy_score(y_test, pre))"
   ]
  },
  {
   "cell_type": "code",
   "execution_count": null,
   "metadata": {
    "collapsed": true
   },
   "outputs": [],
   "source": [
    "from sklearn.metrics import roc_auc_score"
   ]
  },
  {
   "cell_type": "code",
   "execution_count": null,
   "metadata": {
    "collapsed": true
   },
   "outputs": [],
   "source": [
    "score = roc_auc_score(y_test, pre)"
   ]
  },
  {
   "cell_type": "code",
   "execution_count": null,
   "metadata": {},
   "outputs": [],
   "source": [
    "score"
   ]
  },
  {
   "cell_type": "code",
   "execution_count": null,
   "metadata": {},
   "outputs": [],
   "source": [
    "output = pd.DataFrame({'is_click': pre })\n",
    "output.to_csv('am6.csv', index=False)"
   ]
  },
  {
   "cell_type": "code",
   "execution_count": null,
   "metadata": {
    "collapsed": true
   },
   "outputs": [],
   "source": []
  }
 ],
 "metadata": {
  "kernelspec": {
   "display_name": "Python 3",
   "language": "python",
   "name": "python3"
  },
  "language_info": {
   "codemirror_mode": {
    "name": "ipython",
    "version": 3
   },
   "file_extension": ".py",
   "mimetype": "text/x-python",
   "name": "python",
   "nbconvert_exporter": "python",
   "pygments_lexer": "ipython3",
   "version": "3.6.0"
  }
 },
 "nbformat": 4,
 "nbformat_minor": 2
}
